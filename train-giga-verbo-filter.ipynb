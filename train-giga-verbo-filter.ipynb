{
 "cells": [
  {
   "cell_type": "code",
   "execution_count": null,
   "id": "a316f487-105b-4b66-95da-5ab5e212c87f",
   "metadata": {},
   "outputs": [],
   "source": [
    "!git clone https://github.com/wilsonjr/cramming.git"
   ]
  },
  {
   "cell_type": "code",
   "execution_count": null,
   "id": "ef56c003-a250-46c7-bf8e-203c5bbc69b7",
   "metadata": {},
   "outputs": [],
   "source": [
    "!pip install cramming/."
   ]
  },
  {
   "cell_type": "code",
   "execution_count": null,
   "id": "35a6b442-de7e-42fe-a26f-1651261c765b",
   "metadata": {},
   "outputs": [],
   "source": [
    "!curl -s https://packagecloud.io/install/repositories/github/git-lfs/script.deb.sh | bash"
   ]
  },
  {
   "cell_type": "code",
   "execution_count": null,
   "id": "0a452709-4b0f-4689-a404-fcb4a29c7afe",
   "metadata": {},
   "outputs": [],
   "source": [
    "!pip install wandb"
   ]
  },
  {
   "cell_type": "code",
   "execution_count": 12,
   "id": "9672fea8-990f-46ae-8c0e-eae3d3d24f70",
   "metadata": {},
   "outputs": [],
   "source": [
    "!git config --global user.email \"wilsonjr@outlook.com\"\n",
    "!git config --global user.name \"wilsonjr\""
   ]
  },
  {
   "cell_type": "code",
   "execution_count": 14,
   "id": "42c60bf4-3ee3-48a6-9757-afee29f9db15",
   "metadata": {},
   "outputs": [],
   "source": [
    "!git config --global credential.helper store"
   ]
  },
  {
   "cell_type": "code",
   "execution_count": null,
   "id": "44b2e17a-cb49-4fb2-89e2-7ef39018e3c9",
   "metadata": {},
   "outputs": [],
   "source": [
    "from huggingface_hub import notebook_login\n",
    "\n",
    "notebook_login()"
   ]
  },
  {
   "cell_type": "code",
   "execution_count": null,
   "id": "3f33fdce-ea0f-4010-aa5e-5ddb6d0a605e",
   "metadata": {},
   "outputs": [],
   "source": [
    "import wandb\n",
    "wandb.login()"
   ]
  },
  {
   "cell_type": "code",
   "execution_count": null,
   "id": "8d8e8f20-b96f-408c-a8ea-51fddc9a5adb",
   "metadata": {},
   "outputs": [],
   "source": [
    "!python cramming/pretrain.py\\\n",
    "   name=cramming-bert-subset-pt\\\n",
    "   arch=crammed-bert\\\n",
    "   train=bert-o4\\\n",
    "   data=giga-verbo\\\n",
    "   wandb.enabled=True\\\n",
    "   wandb.project=cramming-bert\\\n",
    "   wandb.tags=[test,gigaverbo,subset,crammedBERT]\\\n",
    "   budget=1\\\n",
    "   impl.microbatch_size=64\\\n",
    "   train.batch_size=4096\\\n",
    "   impl.push_to_huggingface_hub=True\\\n",
    "   impl.hf_directoy_name=test-crammedBERT-subset-GigaVerbo"
   ]
  },
  {
   "cell_type": "code",
   "execution_count": null,
   "id": "7d37d0bc-0f99-4248-b656-63124de712f5",
   "metadata": {},
   "outputs": [],
   "source": [
    "# !python cramming/pretrain.py\\\n",
    "#     name=amp_b8192_cb_o4_final\\\n",
    "#     arch=crammed-bert\\\n",
    "#     train=bert-o4\\\n",
    "#     data=pile-readymade\\\n",
    "#     wandb.enabled=True\\\n",
    "#     wandb.project=cramming-bert\\\n",
    "#     wandb.tags=[test,pile,preprocessed,crammedBERT]\\\n",
    "#     budget=24\\\n",
    "#     impl.push_to_huggingface_hub=True\\\n",
    "#     impl.hf_directoy_name=bert-pile-crammed"
   ]
  },
  {
   "cell_type": "code",
   "execution_count": null,
   "id": "bfecca63-d7fa-4b25-8013-33e800b7901d",
   "metadata": {},
   "outputs": [],
   "source": [
    "!python load_local_model.py\\\n",
    "    name=cramming-bert-subset-pt\\\n",
    "        impl.push_to_huggingface_hub=True\\\n",
    "        impl.hf_directoy_name=test-crammedBERT-subset-GigaVerbo\\\n",
    "        base_dir=/Users/wilson/Documents/projects/cramming/outputs/\\\n",
    "        +eval=GLUE_sane impl.compile_torch=False"
   ]
  },
  {
   "cell_type": "code",
   "execution_count": null,
   "id": "d589cd4c",
   "metadata": {},
   "outputs": [],
   "source": [
    "import cramming # needed to load crammed model\n",
    "from transformers import AutoModelForMaskedLM, AutoTokenizer\n",
    "\n",
    "tokenizer = AutoTokenizer.from_pretrained(\"wilsonmarciliojr/test-crammedBERT-subset-GigaVerbo\")\n",
    "model  = AutoModelForMaskedLM.from_pretrained(\"wilsonmarciliojr/test-crammedBERT-subset-GigaVerbo\")\n",
    "\n",
    "text = \"Oi, eu sou um modelo <mask>.\"\n",
    "encoded_input = tokenizer(text, return_tensors='pt')\n",
    "output = model(**encoded_input)\n"
   ]
  },
  {
   "cell_type": "code",
   "execution_count": null,
   "id": "0f9508a1",
   "metadata": {},
   "outputs": [],
   "source": [
    "import torch\n",
    "\n",
    "mask_token_index = (encoded_input[\"input_ids\"] == tokenizer.mask_token_id).nonzero(as_tuple=True)[1]\n",
    "\n",
    "mask_token_logits = output['outputs'][mask_token_index, :]\n",
    "\n",
    "top_k = 5\n",
    "top_k_values, top_k_indices = torch.topk(mask_token_logits, top_k, dim=1)\n",
    "\n",
    "predicted_tokens = [tokenizer.decode([token_idx]) for token_idx in top_k_indices[0].tolist()]\n",
    "print(\"Top-k predictions for the mask token:\", predicted_tokens)"
   ]
  },
  {
   "cell_type": "code",
   "execution_count": null,
   "id": "aa17442a",
   "metadata": {},
   "outputs": [],
   "source": [
    "# use output to get the predictions from the model\n",
    "predictions = tokenizer.decode(output['outputs'].argmax(dim=-1))\n",
    "predictions\n",
    "\n",
    "# the topk predictions for <mask> token"
   ]
  },
  {
   "cell_type": "code",
   "execution_count": null,
   "id": "96ee1dbb",
   "metadata": {},
   "outputs": [],
   "source": [
    "# Use a pipeline as a high-level helper\n",
    "import cramming\n",
    "from transformers import pipeline\n",
    "\n",
    "pipe = pipeline(\"fill-mask\", model=\"JonasGeiping/crammed-bert\", tokenizer=tokenizer)  "
   ]
  },
  {
   "cell_type": "code",
   "execution_count": null,
   "id": "e2a6a6e5",
   "metadata": {},
   "outputs": [],
   "source": [
    "tokenizer.mask_token"
   ]
  },
  {
   "cell_type": "code",
   "execution_count": null,
   "id": "b1196aeb",
   "metadata": {},
   "outputs": [],
   "source": [
    "pipe(\"Hello, I'm a <mask> model.\")"
   ]
  },
  {
   "cell_type": "code",
   "execution_count": null,
   "id": "09db8a25",
   "metadata": {},
   "outputs": [],
   "source": []
  }
 ],
 "metadata": {
  "kernelspec": {
   "display_name": "Python 3",
   "language": "python",
   "name": "python3"
  },
  "language_info": {
   "codemirror_mode": {
    "name": "ipython",
    "version": 3
   },
   "file_extension": ".py",
   "mimetype": "text/x-python",
   "name": "python",
   "nbconvert_exporter": "python",
   "pygments_lexer": "ipython3",
   "version": "3.9.16"
  }
 },
 "nbformat": 4,
 "nbformat_minor": 5
}
